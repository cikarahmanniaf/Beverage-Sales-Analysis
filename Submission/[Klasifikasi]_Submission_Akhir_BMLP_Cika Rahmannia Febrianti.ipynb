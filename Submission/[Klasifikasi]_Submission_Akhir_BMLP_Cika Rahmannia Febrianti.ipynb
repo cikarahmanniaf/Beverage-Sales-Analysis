{
 "cells": [
  {
   "cell_type": "markdown",
   "metadata": {
    "id": "fKADPWcFKlj3"
   },
   "source": [
    "# **1. Import Library**"
   ]
  },
  {
   "cell_type": "markdown",
   "metadata": {
    "id": "LgA3ERnVn84N"
   },
   "source": [
    "Pada tahap ini, Anda perlu mengimpor beberapa pustaka (library) Python yang dibutuhkan untuk analisis data dan pembangunan model machine learning."
   ]
  },
  {
   "cell_type": "code",
   "execution_count": 1,
   "metadata": {
    "id": "BlmvjLY9M4Yj"
   },
   "outputs": [],
   "source": [
    "import pandas as pd\n",
    "import numpy as np\n",
    "import seaborn as sns\n",
    "import matplotlib.pyplot as plt\n",
    "from sklearn.preprocessing import MinMaxScaler\n",
    "from sklearn.model_selection import train_test_split\n",
    "from sklearn.preprocessing import LabelEncoder\n",
    "\n",
    "from sklearn.linear_model import LogisticRegression\n",
    "from sklearn.neighbors import KNeighborsClassifier\n",
    "from sklearn.tree import DecisionTreeClassifier\n",
    "from sklearn.ensemble import RandomForestClassifier\n",
    "from sklearn.svm import SVC\n",
    "from sklearn.metrics import accuracy_score, precision_score, recall_score, f1_score, confusion_matrix\n",
    "from sklearn.model_selection import GridSearchCV, RandomizedSearchCV\n",
    "from sklearn.model_selection import cross_val_score, StratifiedKFold"
   ]
  },
  {
   "cell_type": "markdown",
   "metadata": {
    "id": "f3YIEnAFKrKL"
   },
   "source": [
    "# **2. Memuat Dataset dari Hasil Clustering**"
   ]
  },
  {
   "cell_type": "markdown",
   "metadata": {
    "id": "Ey3ItwTen_7E"
   },
   "source": [
    "Memuat dataset hasil clustering dari file CSV ke dalam variabel DataFrame."
   ]
  },
  {
   "cell_type": "code",
   "execution_count": 2,
   "metadata": {
    "id": "GHCGNTyrM5fS"
   },
   "outputs": [
    {
     "data": {
      "text/html": [
       "<div>\n",
       "<style scoped>\n",
       "    .dataframe tbody tr th:only-of-type {\n",
       "        vertical-align: middle;\n",
       "    }\n",
       "\n",
       "    .dataframe tbody tr th {\n",
       "        vertical-align: top;\n",
       "    }\n",
       "\n",
       "    .dataframe thead th {\n",
       "        text-align: right;\n",
       "    }\n",
       "</style>\n",
       "<table border=\"1\" class=\"dataframe\">\n",
       "  <thead>\n",
       "    <tr style=\"text-align: right;\">\n",
       "      <th></th>\n",
       "      <th>Category</th>\n",
       "      <th>Cluster</th>\n",
       "      <th>Product</th>\n",
       "      <th>Unit_Price</th>\n",
       "      <th>Quantity</th>\n",
       "      <th>Discount</th>\n",
       "      <th>Total_Price</th>\n",
       "    </tr>\n",
       "  </thead>\n",
       "  <tbody>\n",
       "    <tr>\n",
       "      <th>0</th>\n",
       "      <td>Juices</td>\n",
       "      <td>4</td>\n",
       "      <td>Hohes C Orange</td>\n",
       "      <td>1.87</td>\n",
       "      <td>74</td>\n",
       "      <td>0.10</td>\n",
       "      <td>124.54</td>\n",
       "    </tr>\n",
       "    <tr>\n",
       "      <th>1</th>\n",
       "      <td>Soft Drinks</td>\n",
       "      <td>2</td>\n",
       "      <td>Fritz-Kola</td>\n",
       "      <td>1.87</td>\n",
       "      <td>18</td>\n",
       "      <td>0.05</td>\n",
       "      <td>31.98</td>\n",
       "    </tr>\n",
       "    <tr>\n",
       "      <th>2</th>\n",
       "      <td>Juices</td>\n",
       "      <td>4</td>\n",
       "      <td>Granini Apple</td>\n",
       "      <td>1.64</td>\n",
       "      <td>4</td>\n",
       "      <td>0.00</td>\n",
       "      <td>6.56</td>\n",
       "    </tr>\n",
       "    <tr>\n",
       "      <th>3</th>\n",
       "      <td>Alcoholic Beverages</td>\n",
       "      <td>1</td>\n",
       "      <td>Riesling</td>\n",
       "      <td>8.62</td>\n",
       "      <td>47</td>\n",
       "      <td>0.05</td>\n",
       "      <td>384.88</td>\n",
       "    </tr>\n",
       "    <tr>\n",
       "      <th>4</th>\n",
       "      <td>Soft Drinks</td>\n",
       "      <td>2</td>\n",
       "      <td>Pepsi</td>\n",
       "      <td>1.74</td>\n",
       "      <td>5</td>\n",
       "      <td>0.00</td>\n",
       "      <td>8.70</td>\n",
       "    </tr>\n",
       "    <tr>\n",
       "      <th>...</th>\n",
       "      <td>...</td>\n",
       "      <td>...</td>\n",
       "      <td>...</td>\n",
       "      <td>...</td>\n",
       "      <td>...</td>\n",
       "      <td>...</td>\n",
       "      <td>...</td>\n",
       "    </tr>\n",
       "    <tr>\n",
       "      <th>1922</th>\n",
       "      <td>Juices</td>\n",
       "      <td>4</td>\n",
       "      <td>Passion Fruit Juice</td>\n",
       "      <td>2.31</td>\n",
       "      <td>4</td>\n",
       "      <td>0.05</td>\n",
       "      <td>8.78</td>\n",
       "    </tr>\n",
       "    <tr>\n",
       "      <th>1923</th>\n",
       "      <td>Water</td>\n",
       "      <td>3</td>\n",
       "      <td>Evian</td>\n",
       "      <td>1.26</td>\n",
       "      <td>12</td>\n",
       "      <td>0.00</td>\n",
       "      <td>15.12</td>\n",
       "    </tr>\n",
       "    <tr>\n",
       "      <th>1924</th>\n",
       "      <td>Water</td>\n",
       "      <td>3</td>\n",
       "      <td>Vio Wasser</td>\n",
       "      <td>1.71</td>\n",
       "      <td>11</td>\n",
       "      <td>0.00</td>\n",
       "      <td>18.81</td>\n",
       "    </tr>\n",
       "    <tr>\n",
       "      <th>1925</th>\n",
       "      <td>Juices</td>\n",
       "      <td>4</td>\n",
       "      <td>Granini Apple</td>\n",
       "      <td>1.46</td>\n",
       "      <td>14</td>\n",
       "      <td>0.05</td>\n",
       "      <td>19.42</td>\n",
       "    </tr>\n",
       "    <tr>\n",
       "      <th>1926</th>\n",
       "      <td>Water</td>\n",
       "      <td>3</td>\n",
       "      <td>Vittel</td>\n",
       "      <td>0.99</td>\n",
       "      <td>36</td>\n",
       "      <td>0.10</td>\n",
       "      <td>32.08</td>\n",
       "    </tr>\n",
       "  </tbody>\n",
       "</table>\n",
       "<p>1927 rows × 7 columns</p>\n",
       "</div>"
      ],
      "text/plain": [
       "                 Category  Cluster              Product  Unit_Price  Quantity  \\\n",
       "0                  Juices        4       Hohes C Orange        1.87        74   \n",
       "1             Soft Drinks        2           Fritz-Kola        1.87        18   \n",
       "2                  Juices        4        Granini Apple        1.64         4   \n",
       "3     Alcoholic Beverages        1             Riesling        8.62        47   \n",
       "4             Soft Drinks        2                Pepsi        1.74         5   \n",
       "...                   ...      ...                  ...         ...       ...   \n",
       "1922               Juices        4  Passion Fruit Juice        2.31         4   \n",
       "1923                Water        3                Evian        1.26        12   \n",
       "1924                Water        3           Vio Wasser        1.71        11   \n",
       "1925               Juices        4        Granini Apple        1.46        14   \n",
       "1926                Water        3               Vittel        0.99        36   \n",
       "\n",
       "      Discount  Total_Price  \n",
       "0         0.10       124.54  \n",
       "1         0.05        31.98  \n",
       "2         0.00         6.56  \n",
       "3         0.05       384.88  \n",
       "4         0.00         8.70  \n",
       "...        ...          ...  \n",
       "1922      0.05         8.78  \n",
       "1923      0.00        15.12  \n",
       "1924      0.00        18.81  \n",
       "1925      0.05        19.42  \n",
       "1926      0.10        32.08  \n",
       "\n",
       "[1927 rows x 7 columns]"
      ]
     },
     "execution_count": 2,
     "metadata": {},
     "output_type": "execute_result"
    }
   ],
   "source": [
    "bvsales = pd.read_csv(\"D:\\Coding Camp 2025 DBS Foundation (Dicoding)\\Dataset_inisiasi.csv\")\n",
    "bvsales"
   ]
  },
  {
   "cell_type": "code",
   "execution_count": 3,
   "metadata": {},
   "outputs": [
    {
     "name": "stdout",
     "output_type": "stream",
     "text": [
      "<class 'pandas.core.frame.DataFrame'>\n",
      "RangeIndex: 1927 entries, 0 to 1926\n",
      "Data columns (total 7 columns):\n",
      " #   Column       Non-Null Count  Dtype  \n",
      "---  ------       --------------  -----  \n",
      " 0   Category     1927 non-null   object \n",
      " 1   Cluster      1927 non-null   int64  \n",
      " 2   Product      1927 non-null   object \n",
      " 3   Unit_Price   1927 non-null   float64\n",
      " 4   Quantity     1927 non-null   int64  \n",
      " 5   Discount     1927 non-null   float64\n",
      " 6   Total_Price  1927 non-null   float64\n",
      "dtypes: float64(3), int64(2), object(2)\n",
      "memory usage: 105.5+ KB\n"
     ]
    }
   ],
   "source": [
    "bvsales.info()"
   ]
  },
  {
   "cell_type": "code",
   "execution_count": 4,
   "metadata": {},
   "outputs": [],
   "source": [
    "bvsales.rename(columns={\"Cluster\": \"Label\"}, inplace=True)"
   ]
  },
  {
   "cell_type": "code",
   "execution_count": 5,
   "metadata": {},
   "outputs": [
    {
     "data": {
      "text/html": [
       "<div>\n",
       "<style scoped>\n",
       "    .dataframe tbody tr th:only-of-type {\n",
       "        vertical-align: middle;\n",
       "    }\n",
       "\n",
       "    .dataframe tbody tr th {\n",
       "        vertical-align: top;\n",
       "    }\n",
       "\n",
       "    .dataframe thead th {\n",
       "        text-align: right;\n",
       "    }\n",
       "</style>\n",
       "<table border=\"1\" class=\"dataframe\">\n",
       "  <thead>\n",
       "    <tr style=\"text-align: right;\">\n",
       "      <th></th>\n",
       "      <th>Label</th>\n",
       "      <th>Unit_Price</th>\n",
       "      <th>Quantity</th>\n",
       "      <th>Discount</th>\n",
       "      <th>Total_Price</th>\n",
       "    </tr>\n",
       "  </thead>\n",
       "  <tbody>\n",
       "    <tr>\n",
       "      <th>count</th>\n",
       "      <td>1927.000000</td>\n",
       "      <td>1927.000000</td>\n",
       "      <td>1927.000000</td>\n",
       "      <td>1927.000000</td>\n",
       "      <td>1927.000000</td>\n",
       "    </tr>\n",
       "    <tr>\n",
       "      <th>mean</th>\n",
       "      <td>2.585366</td>\n",
       "      <td>1.924136</td>\n",
       "      <td>23.895693</td>\n",
       "      <td>0.030643</td>\n",
       "      <td>43.039061</td>\n",
       "    </tr>\n",
       "    <tr>\n",
       "      <th>std</th>\n",
       "      <td>1.053528</td>\n",
       "      <td>1.403907</td>\n",
       "      <td>26.490031</td>\n",
       "      <td>0.039519</td>\n",
       "      <td>61.712854</td>\n",
       "    </tr>\n",
       "    <tr>\n",
       "      <th>min</th>\n",
       "      <td>1.000000</td>\n",
       "      <td>0.330000</td>\n",
       "      <td>1.000000</td>\n",
       "      <td>0.000000</td>\n",
       "      <td>0.550000</td>\n",
       "    </tr>\n",
       "    <tr>\n",
       "      <th>25%</th>\n",
       "      <td>2.000000</td>\n",
       "      <td>1.010000</td>\n",
       "      <td>6.000000</td>\n",
       "      <td>0.000000</td>\n",
       "      <td>7.640000</td>\n",
       "    </tr>\n",
       "    <tr>\n",
       "      <th>50%</th>\n",
       "      <td>3.000000</td>\n",
       "      <td>1.590000</td>\n",
       "      <td>12.000000</td>\n",
       "      <td>0.000000</td>\n",
       "      <td>19.040000</td>\n",
       "    </tr>\n",
       "    <tr>\n",
       "      <th>75%</th>\n",
       "      <td>3.000000</td>\n",
       "      <td>2.380000</td>\n",
       "      <td>35.000000</td>\n",
       "      <td>0.050000</td>\n",
       "      <td>53.065000</td>\n",
       "    </tr>\n",
       "    <tr>\n",
       "      <th>max</th>\n",
       "      <td>4.000000</td>\n",
       "      <td>10.860000</td>\n",
       "      <td>100.000000</td>\n",
       "      <td>0.100000</td>\n",
       "      <td>635.310000</td>\n",
       "    </tr>\n",
       "  </tbody>\n",
       "</table>\n",
       "</div>"
      ],
      "text/plain": [
       "             Label   Unit_Price     Quantity     Discount  Total_Price\n",
       "count  1927.000000  1927.000000  1927.000000  1927.000000  1927.000000\n",
       "mean      2.585366     1.924136    23.895693     0.030643    43.039061\n",
       "std       1.053528     1.403907    26.490031     0.039519    61.712854\n",
       "min       1.000000     0.330000     1.000000     0.000000     0.550000\n",
       "25%       2.000000     1.010000     6.000000     0.000000     7.640000\n",
       "50%       3.000000     1.590000    12.000000     0.000000    19.040000\n",
       "75%       3.000000     2.380000    35.000000     0.050000    53.065000\n",
       "max       4.000000    10.860000   100.000000     0.100000   635.310000"
      ]
     },
     "execution_count": 5,
     "metadata": {},
     "output_type": "execute_result"
    }
   ],
   "source": [
    "bvsales.describe()"
   ]
  },
  {
   "cell_type": "markdown",
   "metadata": {
    "id": "KkPem5eWL2UP"
   },
   "source": [
    "# **3. Data Splitting**"
   ]
  },
  {
   "cell_type": "markdown",
   "metadata": {
    "id": "YYj1rl_JNI9Y"
   },
   "source": [
    "Tahap Data Splitting bertujuan untuk memisahkan dataset menjadi dua bagian: data latih (training set) dan data uji (test set)."
   ]
  },
  {
   "cell_type": "code",
   "execution_count": 6,
   "metadata": {
    "id": "OubAW-7ONKVj"
   },
   "outputs": [],
   "source": [
    "# data numerik dinormalisasikan terlebih dahulu agar berada dalam rentang sama\n",
    "\n",
    "scaler = MinMaxScaler()\n",
    "\n",
    "numeric_columns = [\"Unit_Price\", \"Quantity\", \"Discount\", \"Total_Price\"] \n",
    "bvsales[numeric_columns] = scaler.fit_transform(bvsales[numeric_columns])"
   ]
  },
  {
   "cell_type": "code",
   "execution_count": 7,
   "metadata": {},
   "outputs": [],
   "source": [
    "# data kategorik di-encoding terlebih dahulu agar menjadi numerik\n",
    "\n",
    "encoder = LabelEncoder()\n",
    "bvsales[\"Category\"] = encoder.fit_transform(bvsales[\"Category\"]) + 1  # Mulai dari 1\n",
    "bvsales[\"Product\"] = encoder.fit_transform(bvsales[\"Product\"]) + 1 "
   ]
  },
  {
   "cell_type": "code",
   "execution_count": 8,
   "metadata": {},
   "outputs": [
    {
     "data": {
      "text/html": [
       "<div>\n",
       "<style scoped>\n",
       "    .dataframe tbody tr th:only-of-type {\n",
       "        vertical-align: middle;\n",
       "    }\n",
       "\n",
       "    .dataframe tbody tr th {\n",
       "        vertical-align: top;\n",
       "    }\n",
       "\n",
       "    .dataframe thead th {\n",
       "        text-align: right;\n",
       "    }\n",
       "</style>\n",
       "<table border=\"1\" class=\"dataframe\">\n",
       "  <thead>\n",
       "    <tr style=\"text-align: right;\">\n",
       "      <th></th>\n",
       "      <th>Category</th>\n",
       "      <th>Label</th>\n",
       "      <th>Product</th>\n",
       "      <th>Unit_Price</th>\n",
       "      <th>Quantity</th>\n",
       "      <th>Discount</th>\n",
       "      <th>Total_Price</th>\n",
       "    </tr>\n",
       "  </thead>\n",
       "  <tbody>\n",
       "    <tr>\n",
       "      <th>0</th>\n",
       "      <td>2</td>\n",
       "      <td>4</td>\n",
       "      <td>14</td>\n",
       "      <td>0.146249</td>\n",
       "      <td>0.737374</td>\n",
       "      <td>1.0</td>\n",
       "      <td>0.195334</td>\n",
       "    </tr>\n",
       "    <tr>\n",
       "      <th>1</th>\n",
       "      <td>3</td>\n",
       "      <td>2</td>\n",
       "      <td>11</td>\n",
       "      <td>0.146249</td>\n",
       "      <td>0.171717</td>\n",
       "      <td>0.5</td>\n",
       "      <td>0.049515</td>\n",
       "    </tr>\n",
       "    <tr>\n",
       "      <th>2</th>\n",
       "      <td>2</td>\n",
       "      <td>4</td>\n",
       "      <td>13</td>\n",
       "      <td>0.124406</td>\n",
       "      <td>0.030303</td>\n",
       "      <td>0.0</td>\n",
       "      <td>0.009468</td>\n",
       "    </tr>\n",
       "    <tr>\n",
       "      <th>3</th>\n",
       "      <td>1</td>\n",
       "      <td>1</td>\n",
       "      <td>27</td>\n",
       "      <td>0.787274</td>\n",
       "      <td>0.464646</td>\n",
       "      <td>0.5</td>\n",
       "      <td>0.605473</td>\n",
       "    </tr>\n",
       "    <tr>\n",
       "      <th>4</th>\n",
       "      <td>3</td>\n",
       "      <td>2</td>\n",
       "      <td>24</td>\n",
       "      <td>0.133903</td>\n",
       "      <td>0.040404</td>\n",
       "      <td>0.0</td>\n",
       "      <td>0.012839</td>\n",
       "    </tr>\n",
       "  </tbody>\n",
       "</table>\n",
       "</div>"
      ],
      "text/plain": [
       "   Category  Label  Product  Unit_Price  Quantity  Discount  Total_Price\n",
       "0         2      4       14    0.146249  0.737374       1.0     0.195334\n",
       "1         3      2       11    0.146249  0.171717       0.5     0.049515\n",
       "2         2      4       13    0.124406  0.030303       0.0     0.009468\n",
       "3         1      1       27    0.787274  0.464646       0.5     0.605473\n",
       "4         3      2       24    0.133903  0.040404       0.0     0.012839"
      ]
     },
     "execution_count": 8,
     "metadata": {},
     "output_type": "execute_result"
    }
   ],
   "source": [
    "bvsales.head()"
   ]
  },
  {
   "cell_type": "code",
   "execution_count": 9,
   "metadata": {},
   "outputs": [
    {
     "name": "stdout",
     "output_type": "stream",
     "text": [
      "Training set shape: X_train=(1541, 6), y_train=(1541,)\n",
      "Test set shape: X_test=(386, 6), y_test=(386,)\n"
     ]
    }
   ],
   "source": [
    "# Pisahkan fitur (X) dan target (y)\n",
    "X = bvsales.drop(columns=[\"Label\"])  # 'Label' adalah target\n",
    "y = bvsales[\"Label\"]\n",
    "\n",
    "# Split data menjadi set pelatihan dan set uji (80% train, 20% test)\n",
    "X_train, X_test, y_train, y_test = train_test_split(X, y, test_size=0.2, random_state=42, stratify=y)\n",
    "\n",
    "# Tampilkan bentuk set pelatihan dan set uji untuk memastikan split\n",
    "print(f\"Training set shape: X_train={X_train.shape}, y_train={y_train.shape}\")\n",
    "print(f\"Test set shape: X_test={X_test.shape}, y_test={y_test.shape}\")"
   ]
  },
  {
   "cell_type": "markdown",
   "metadata": {
    "id": "IVPbB03CMhTT"
   },
   "source": [
    "# **4. Membangun Model Klasifikasi**\n"
   ]
  },
  {
   "cell_type": "markdown",
   "metadata": {
    "id": "Ned1pL9zMmBK"
   },
   "source": [
    "## **a. Membangun Model Klasifikasi**"
   ]
  },
  {
   "cell_type": "markdown",
   "metadata": {
    "id": "WAWzPOE4Nkti"
   },
   "source": [
    "Setelah memilih algoritma klasifikasi yang sesuai, langkah selanjutnya adalah melatih model menggunakan data latih.\n",
    "\n",
    "Berikut adalah rekomendasi tahapannya.\n",
    "1. Pilih algoritma klasifikasi yang sesuai, seperti Logistic Regression, Decision Tree, Random Forest, atau K-Nearest Neighbors (KNN).\n",
    "2. Latih model menggunakan data latih."
   ]
  },
  {
   "cell_type": "markdown",
   "metadata": {
    "id": "seYoHNY3XU1y"
   },
   "source": [
    "Tulis narasi atau penjelasan algoritma yang Anda gunakan."
   ]
  },
  {
   "cell_type": "markdown",
   "metadata": {},
   "source": [
    "- **KNN**: Klasifikasi berdasarkan mayoritas *k* tetangga terdekat.  \r\n",
    "- **Decision Tree (DT)**: Pemisahan data berbasis aturan dalam struktur pohon.  \r\n",
    "- **Random Forest (RF)**: Ensemble pohon keputusan untuk meningkatkan akurasi.  \r\n",
    "- **SVM**: Mencari hyperplane terbaik untuk memisahkan kelas.  \r\n",
    "- **Naive Bayes (NB)**: Klasifikasi berbasis Teorema Bayes dengan asumsi fitur independen.  \r\n",
    "- **Logistic Regression (LR)**: Model probabilistik berbasis fungsi sigmoid untuk klasifikasi.  \r\n"
   ]
  },
  {
   "cell_type": "code",
   "execution_count": 10,
   "metadata": {},
   "outputs": [
    {
     "name": "stderr",
     "output_type": "stream",
     "text": [
      "c:\\users\\cikar\\appdata\\local\\programs\\python\\python39\\lib\\site-packages\\sklearn\\linear_model\\_logistic.py:460: ConvergenceWarning: lbfgs failed to converge (status=1):\n",
      "STOP: TOTAL NO. of ITERATIONS REACHED LIMIT.\n",
      "\n",
      "Increase the number of iterations (max_iter) or scale the data as shown in:\n",
      "    https://scikit-learn.org/stable/modules/preprocessing.html\n",
      "Please also refer to the documentation for alternative solver options:\n",
      "    https://scikit-learn.org/stable/modules/linear_model.html#logistic-regression\n",
      "  n_iter_i = _check_optimize_result(\n"
     ]
    }
   ],
   "source": [
    "# Latih data train\n",
    "knn = KNeighborsClassifier().fit(X_train, y_train)\n",
    "dt = DecisionTreeClassifier().fit(X_train, y_train)\n",
    "rf = RandomForestClassifier().fit(X_train, y_train)\n",
    "svm = SVC().fit(X_train, y_train)\n",
    "log_reg = LogisticRegression().fit(X_train, y_train)"
   ]
  },
  {
   "cell_type": "markdown",
   "metadata": {
    "id": "ergzChZFEL-O"
   },
   "source": [
    "## **b. Evaluasi Model Klasifikasi**"
   ]
  },
  {
   "cell_type": "markdown",
   "metadata": {
    "id": "zOm68u-7NpLT"
   },
   "source": [
    "Berikut adalah **rekomendasi** tahapannya.\n",
    "1. Lakukan prediksi menggunakan data uji.\n",
    "2. Hitung metrik evaluasi seperti Accuracy dan F1-Score (Opsional: Precision dan Recall).\n",
    "3. Buat confusion matrix untuk melihat detail prediksi benar dan salah."
   ]
  },
  {
   "cell_type": "markdown",
   "metadata": {
    "id": "H4_9OwrsXZlz"
   },
   "source": [
    "Tulis hasil evaluasi algoritma yang digunakan, jika Anda menggunakan 2 algoritma, maka bandingkan hasilnya."
   ]
  },
  {
   "cell_type": "code",
   "execution_count": 11,
   "metadata": {
    "id": "tMq4QAssNLip"
   },
   "outputs": [
    {
     "name": "stdout",
     "output_type": "stream",
     "text": [
      "                          Model  Accuracy  Precision    Recall  F1-Score\n",
      "0     K-Nearest Neighbors (KNN)  1.000000   1.000000  1.000000  1.000000\n",
      "1            Decision Tree (DT)  1.000000   1.000000  1.000000  1.000000\n",
      "2            Random Forest (RF)  1.000000   1.000000  1.000000  1.000000\n",
      "3  Support Vector Machine (SVM)  0.800518   0.831388  0.800518  0.789898\n",
      "4      Logistic Regression (LR)  1.000000   1.000000  1.000000  1.000000\n"
     ]
    }
   ],
   "source": [
    "def evaluate_model(model, X_test, y_test):\n",
    "    y_pred = model.predict(X_test)\n",
    "    results = {\n",
    "        \"Accuracy\": accuracy_score(y_test, y_pred),\n",
    "        \"Precision\": precision_score(y_test, y_pred, average=\"weighted\"),\n",
    "        \"Recall\": recall_score(y_test, y_pred, average=\"weighted\"),\n",
    "        \"F1-Score\": f1_score(y_test, y_pred, average=\"weighted\")\n",
    "    }\n",
    "    return results\n",
    "\n",
    "results = {\n",
    "    \"K-Nearest Neighbors (KNN)\": evaluate_model(knn, X_test, y_test),\n",
    "    \"Decision Tree (DT)\": evaluate_model(dt, X_test, y_test),\n",
    "    \"Random Forest (RF)\": evaluate_model(rf, X_test, y_test),\n",
    "    \"Support Vector Machine (SVM)\": evaluate_model(svm, X_test, y_test),\n",
    "    \"Logistic Regression (LR)\": evaluate_model(log_reg, X_test, y_test),\n",
    "}\n",
    "\n",
    "summary_df = pd.DataFrame(columns=[\"Model\", \"Accuracy\", \"Precision\", \"Recall\", \"F1-Score\"])\n",
    "\n",
    "rows = []\n",
    "for model_name, metrics in results.items():\n",
    "    rows.append({\n",
    "        \"Model\": model_name,\n",
    "        \"Accuracy\": metrics[\"Accuracy\"],\n",
    "        \"Precision\": metrics[\"Precision\"],\n",
    "        \"Recall\": metrics[\"Recall\"],\n",
    "        \"F1-Score\": metrics[\"F1-Score\"]\n",
    "    })\n",
    "\n",
    "summary_df = pd.DataFrame(rows)\n",
    "print(summary_df)"
   ]
  },
  {
   "cell_type": "code",
   "execution_count": 12,
   "metadata": {},
   "outputs": [
    {
     "data": {
      "image/png": "[encoded data removed]",
      "text/plain": [
       "<Figure size 500x400 with 2 Axes>"
      ]
     },
     "metadata": {},
     "output_type": "display_data"
    },
    {
     "name": "stdout",
     "output_type": "stream",
     "text": [
      "Logistic Regression - Accuracy: 1.0000, F1-Score: 1.0000\n",
      "\n"
     ]
    },
    {
     "data": {
      "image/png": "[encoded data removed]",
      "text/plain": [
       "<Figure size 500x400 with 2 Axes>"
      ]
     },
     "metadata": {},
     "output_type": "display_data"
    },
    {
     "name": "stdout",
     "output_type": "stream",
     "text": [
      "KNN - Accuracy: 1.0000, F1-Score: 1.0000\n",
      "\n"
     ]
    },
    {
     "data": {
      "image/png": "[encoded data removed]",
      "text/plain": [
       "<Figure size 500x400 with 2 Axes>"
      ]
     },
     "metadata": {},
     "output_type": "display_data"
    },
    {
     "name": "stdout",
     "output_type": "stream",
     "text": [
      "Decision Tree - Accuracy: 1.0000, F1-Score: 1.0000\n",
      "\n"
     ]
    },
    {
     "data": {
      "image/png": "[encoded data removed]",
      "text/plain": [
       "<Figure size 500x400 with 2 Axes>"
      ]
     },
     "metadata": {},
     "output_type": "display_data"
    },
    {
     "name": "stdout",
     "output_type": "stream",
     "text": [
      "Random Forest - Accuracy: 1.0000, F1-Score: 1.0000\n",
      "\n"
     ]
    },
    {
     "data": {
      "image/png": "[encoded data removed]",
      "text/plain": [
       "<Figure size 500x400 with 2 Axes>"
      ]
     },
     "metadata": {},
     "output_type": "display_data"
    },
    {
     "name": "stdout",
     "output_type": "stream",
     "text": [
      "SVM - Accuracy: 0.8005, F1-Score: 0.7899\n",
      "\n"
     ]
    }
   ],
   "source": [
    "def plot_confusion_matrix(model, X_test, y_test, model_name):\n",
    "    y_pred = model.predict(X_test)\n",
    "    cm = confusion_matrix(y_test, y_pred)\n",
    "    \n",
    "    plt.figure(figsize=(5, 4))\n",
    "    sns.heatmap(cm, annot=True, fmt=\"d\", cmap=\"Blues\", xticklabels=np.unique(y_test), yticklabels=np.unique(y_test))\n",
    "    plt.xlabel(\"Predicted\")\n",
    "    plt.ylabel(\"Actual\")\n",
    "    plt.title(f\"Confusion Matrix - {model_name}\")\n",
    "    plt.show()\n",
    "    \n",
    "    acc = accuracy_score(y_test, y_pred)\n",
    "    f1 = f1_score(y_test, y_pred, average=\"weighted\")\n",
    "    print(f\"{model_name} - Accuracy: {acc:.4f}, F1-Score: {f1:.4f}\\n\")\n",
    "\n",
    "plot_confusion_matrix(log_reg, X_test, y_test, \"Logistic Regression\")\n",
    "plot_confusion_matrix(knn, X_test, y_test, \"KNN\")\n",
    "plot_confusion_matrix(dt, X_test, y_test, \"Decision Tree\")\n",
    "plot_confusion_matrix(rf, X_test, y_test, \"Random Forest\")\n",
    "plot_confusion_matrix(svm, X_test, y_test, \"SVM\")"
   ]
  },
  {
   "cell_type": "markdown",
   "metadata": {
    "id": "ph9yIYDXEPuB"
   },
   "source": [
    "## **c. Tuning Model Klasifikasi (Optional)**"
   ]
  },
  {
   "cell_type": "markdown",
   "metadata": {},
   "source": [
    "Digunakan RandomizedSearchCV untuk hyperparameter tuning karena lebih cepat dan efisien untuk dataset besar."
   ]
  },
  {
   "cell_type": "code",
   "execution_count": 13,
   "metadata": {},
   "outputs": [],
   "source": [
    "# Dictionary untuk menyimpan model yang telah dituning\n",
    "tuned_models = {}"
   ]
  },
  {
   "cell_type": "code",
   "execution_count": 14,
   "metadata": {},
   "outputs": [
    {
     "name": "stdout",
     "output_type": "stream",
     "text": [
      "KNN Best Params: {'weights': 'uniform', 'n_neighbors': 3, 'metric': 'euclidean'}\n"
     ]
    }
   ],
   "source": [
    "# 1. Hyperparameter Tuning untuk K-Nearest Neighbors (KNN)\n",
    "param_dist_knn = {\n",
    "    \"n_neighbors\": [3, 5, 7, 9, 11],\n",
    "    \"weights\": [\"uniform\", \"distance\"],\n",
    "    \"metric\": [\"euclidean\", \"manhattan\"]\n",
    "}\n",
    "\n",
    "random_knn = RandomizedSearchCV(KNeighborsClassifier(), param_dist_knn, cv=5, scoring=\"accuracy\", n_iter=10, n_jobs=-1, random_state=42)\n",
    "random_knn.fit(X_train, y_train)\n",
    "tuned_models[\"KNN\"] = random_knn.best_estimator_\n",
    "\n",
    "print(f\"KNN Best Params: {random_knn.best_params_}\")"
   ]
  },
  {
   "cell_type": "code",
   "execution_count": 15,
   "metadata": {},
   "outputs": [
    {
     "name": "stdout",
     "output_type": "stream",
     "text": [
      "Decision Tree Best Params: {'min_samples_split': 2, 'min_samples_leaf': 2, 'max_depth': 40}\n"
     ]
    }
   ],
   "source": [
    "# 2. Hyperparameter Tuning untuk Decision Tree (DT)\n",
    "param_dist_dt = {\n",
    "    \"max_depth\": [None, 10, 20, 30, 40],\n",
    "    \"min_samples_split\": [2, 5, 10],\n",
    "    \"min_samples_leaf\": [1, 2, 4]\n",
    "}\n",
    "\n",
    "random_dt = RandomizedSearchCV(DecisionTreeClassifier(), param_dist_dt, cv=5, scoring=\"accuracy\", n_iter=10, n_jobs=-1, random_state=42)\n",
    "random_dt.fit(X_train, y_train)\n",
    "tuned_models[\"Decision Tree\"] = random_dt.best_estimator_\n",
    "\n",
    "print(f\"Decision Tree Best Params: {random_dt.best_params_}\")"
   ]
  },
  {
   "cell_type": "code",
   "execution_count": 16,
   "metadata": {},
   "outputs": [
    {
     "name": "stdout",
     "output_type": "stream",
     "text": [
      "Random Forest Best Params: {'n_estimators': 200, 'min_samples_split': 10, 'max_depth': 30}\n"
     ]
    }
   ],
   "source": [
    "# 3. Hyperparameter Tuning untuk Random Forest (RF)\n",
    "param_grid_rf = {\n",
    "    \"n_estimators\": [50, 100, 200],\n",
    "    \"max_depth\": [None, 10, 20, 30],\n",
    "    \"min_samples_split\": [2, 5, 10]\n",
    "}\n",
    "\n",
    "random_rf = RandomizedSearchCV(RandomForestClassifier(), param_grid_rf, cv=5, scoring=\"accuracy\", n_iter=10, n_jobs=-1, random_state=42)\n",
    "random_rf.fit(X_train, y_train)\n",
    "tuned_models[\"Random Forest\"] = random_rf.best_estimator_\n",
    "\n",
    "print(f\"Random Forest Best Params: {random_rf.best_params_}\")"
   ]
  },
  {
   "cell_type": "code",
   "execution_count": 17,
   "metadata": {},
   "outputs": [
    {
     "name": "stdout",
     "output_type": "stream",
     "text": [
      "SVM Best Params: {'kernel': 'rbf', 'gamma': 'auto', 'C': 10}\n"
     ]
    }
   ],
   "source": [
    "# 4. Hyperparameter Tuning untuk SVM\n",
    "param_dist_svm = {\n",
    "    \"C\": [0.1, 1, 10, 100],\n",
    "    \"kernel\": [\"linear\", \"rbf\", \"poly\"],\n",
    "    \"gamma\": [\"scale\", \"auto\"]\n",
    "}\n",
    "\n",
    "random_svm = RandomizedSearchCV(SVC(), param_dist_svm, cv=5, scoring=\"accuracy\", n_iter=10, n_jobs=-1, random_state=42)\n",
    "random_svm.fit(X_train, y_train)\n",
    "tuned_models[\"SVM\"] = random_svm.best_estimator_\n",
    "\n",
    "print(f\"SVM Best Params: {random_svm.best_params_}\")"
   ]
  },
  {
   "cell_type": "code",
   "execution_count": null,
   "metadata": {
    "id": "winbFzb8NL95"
   },
   "outputs": [],
   "source": [
    "# 5. Hyperparameter Tuning untuk Logistic Regression (LR)\n",
    "param_dist_lr = {\n",
    "    \"C\": [0.01, 0.1, 1, 10, 100],\n",
    "    \"solver\": [\"liblinear\", \"lbfgs\"]\n",
    "}\n",
    "\n",
    "random_lr = RandomizedSearchCV(LogisticRegression(max_iter=1000), param_dist_lr, cv=5, scoring=\"accuracy\", n_iter=10, n_jobs=-1, random_state=42)\n",
    "random_lr.fit(X_train, y_train)\n",
    "tuned_models[\"Logistic Regression\"] = random_lr.best_estimator_\n",
    "\n",
    "print(f\"Logistic Regression Best Params: {random_lr.best_params_}\")"
   ]
  },
  {
   "cell_type": "markdown",
   "metadata": {
    "id": "hE7pqlEPEYzI"
   },
   "source": [
    "## **d. Evaluasi Model Klasifikasi setelah Tuning (Optional)**"
   ]
  },
  {
   "cell_type": "markdown",
   "metadata": {
    "id": "feaPESoeN0zz"
   },
   "source": [
    "Berikut adalah rekomendasi tahapannya.\n",
    "1. Gunakan model dengan hyperparameter terbaik.\n",
    "2. Hitung ulang metrik evaluasi untuk melihat apakah ada peningkatan performa."
   ]
  },
  {
   "cell_type": "code",
   "execution_count": null,
   "metadata": {
    "id": "HTXZRvEeNMb1"
   },
   "outputs": [],
   "source": [
    "tuned_results = {}\n",
    "\n",
    "for model_name, model in tuned_models.items():\n",
    "    tuned_results[model_name] = evaluate_model(model, X_test, y_test)\n",
    "\n",
    "tuned_summary_df = pd.DataFrame.from_dict(tuned_results, orient=\"index\")\n",
    "print(\"\\nEvaluasi Model Setelah Hyperparameter Tuning:\")\n",
    "print(tuned_summary_df)"
   ]
  },
  {
   "cell_type": "code",
   "execution_count": null,
   "metadata": {},
   "outputs": [],
   "source": [
    "# Plot confusion matrix untuk setiap model yang telah dituning\n",
    "for model_name, model in tuned_models.items():\n",
    "    plot_confusion_matrix(model, X_test, y_test, model_name)"
   ]
  },
  {
   "cell_type": "markdown",
   "metadata": {
    "id": "ZRsOdm4uEgAW"
   },
   "source": [
    "## **e. Analisis Hasil Evaluasi Model Klasifikasi**"
   ]
  },
  {
   "cell_type": "markdown",
   "metadata": {
    "id": "Hm3BhSi6N4_l"
   },
   "source": [
    "Berikut adalah **rekomendasi** tahapannya.\n",
    "1. Bandingkan hasil evaluasi sebelum dan setelah tuning (jika dilakukan).\n",
    "2. Identifikasi kelemahan model, seperti:\n",
    "  - Precision atau Recall rendah untuk kelas tertentu.\n",
    "  - Apakah model mengalami overfitting atau underfitting?\n",
    "3. Berikan rekomendasi tindakan lanjutan, seperti mengumpulkan data tambahan atau mencoba algoritma lain jika hasil belum memuaskan."
   ]
  },
  {
   "cell_type": "markdown",
   "metadata": {},
   "source": [
    "#### **1. Perbandingan Sebelum dan Setelah Hyperparameter Tuning**  \n",
    "- Sebelum tuning, SVM memiliki performa yang lebih rendah dibanding model lain, dengan akurasi 80% dan F1-score 78.9%  \n",
    "- Setelah tuning, semua model, termasuk SVM, mencapai akurasi, precision, recall, dan F1-score sebesar 1.0, menunjukkan peningkatan yang signifikan.  \n",
    "\n",
    "#### **2. Identifikasi Kelemahan Model**  \n",
    "- Tidak ada perbedaan antara precision dan recall di semua model setelah tuning, menandakan model tidak mengalami bias terhadap kelas tertentu.  \n",
    "- Namun, hasil evaluasi yang sempurna (1.0 di semua metrik) bisa menjadi indikasi overfitting, terutama jika dataset tidak cukup kompleks atau memiliki pola yang terlalu mudah dipelajari.  \n",
    "\n",
    "#### **3. Rekomendasi Tindakan Lanjutan**  \n",
    "- Validasi lebih lanjut menggunakan cross-validation atau data uji baru untuk memastikan model tetap bekerja dengan baik pada data yang belum pernah dilihat.  \n",
    "- Cek distribusi data untuk memastikan tidak ada ketidakseimbangan kelas yang menyebabkan model terlalu mudah mempelajari pola tertentu.   \n"
   ]
  },
  {
   "cell_type": "markdown",
   "metadata": {},
   "source": [
    "#### Cross-validation dan Cek Distribusi Data"
   ]
  },
  {
   "cell_type": "code",
   "execution_count": null,
   "metadata": {},
   "outputs": [],
   "source": [
    "# Daftar model setelah tuning\n",
    "models = {\n",
    "    \"Logistic Regression\": tuned_models[\"Logistic Regression\"],\n",
    "    \"KNN\": tuned_models[\"KNN\"],\n",
    "    \"Decision Tree\": tuned_models[\"Decision Tree\"],\n",
    "    \"Random Forest\": tuned_models[\"Random Forest\"],\n",
    "    \"SVM\": tuned_models[\"SVM\"]\n",
    "}\n",
    "\n",
    "cv = StratifiedKFold(n_splits=5, shuffle=True, random_state=42)\n",
    "cv_results = {}\n",
    "\n",
    "for name, model in models.items():\n",
    "    scores = cross_val_score(model, X_train, y_train, cv=cv, scoring=\"accuracy\", n_jobs=-1)\n",
    "    cv_results[name] = {\n",
    "        \"Mean Accuracy\": np.mean(scores),\n",
    "        \"Std Dev\": np.std(scores)\n",
    "    }\n",
    "    print(f\"{name} - Mean Accuracy: {np.mean(scores):.4f} ± {np.std(scores):.4f}\")\n",
    "\n",
    "cv_df = pd.DataFrame(cv_results).T\n",
    "print(\"\\nCross-Validation Results:\")\n",
    "print(cv_df)\n"
   ]
  },
  {
   "cell_type": "code",
   "execution_count": null,
   "metadata": {},
   "outputs": [],
   "source": [
    "# Cek distribusi fitur numerik dalam X_train\n",
    "plt.figure(figsize=(10, 6))\n",
    "X_train.hist(bins=20, figsize=(10, 6), layout=(2, 3), edgecolor=\"black\")\n",
    "plt.suptitle(\"Distribusi Fitur Numerik pada Data Training\")\n",
    "plt.show()\n",
    "\n",
    "print(\"Ringkasan Statistik X_train:\")\n",
    "print(X_train.describe())"
   ]
  },
  {
   "cell_type": "code",
   "execution_count": null,
   "metadata": {},
   "outputs": [],
   "source": [
    "# Cek proporsi setiap kelas\n",
    "y_train.value_counts(normalize=True) * 100"
   ]
  },
  {
   "cell_type": "markdown",
   "metadata": {},
   "source": [
    "Keterangan: Proporsi data y_train sudah bagus (di atas 20% semua). Untuk x_train, ada beberapa fitur dengan nilai (Quantity, Discount, Total_Price) sehingga perlu diperiksa lebih lanjut."
   ]
  }
 ],
 "metadata": {
  "colab": {
   "provenance": []
  },
  "kernelspec": {
   "display_name": "Python 3 (ipykernel)",
   "language": "python",
   "name": "python3"
  },
  "language_info": {
   "codemirror_mode": {
    "name": "ipython",
    "version": 3
   },
   "file_extension": ".py",
   "mimetype": "text/x-python",
   "name": "python",
   "nbconvert_exporter": "python",
   "pygments_lexer": "ipython3",
   "version": "3.9.2"
  }
 },
 "nbformat": 4,
 "nbformat_minor": 4
}
